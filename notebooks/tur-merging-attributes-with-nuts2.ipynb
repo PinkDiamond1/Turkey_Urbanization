{
 "cells": [
  {
   "cell_type": "code",
   "execution_count": null,
   "id": "ordered-flashing",
   "metadata": {},
   "outputs": [],
   "source": [
    "import geopandas as gpd\n",
    "import pandas as pd"
   ]
  },
  {
   "cell_type": "markdown",
   "id": "waiting-infrared",
   "metadata": {},
   "source": [
    "# Turkey: Merging attributes with NUTS2"
   ]
  },
  {
   "cell_type": "markdown",
   "id": "defensive-metadata",
   "metadata": {},
   "source": [
    "Nomenclature of Territorial Units for Statistics or NUTS (French: Nomenclature des unités territoriales statistiques) is a geocode standard for referencing the subdivisions of countries for statistical purposes. [Wikipedia](https://en.wikipedia.org/wiki/Nomenclature_of_Territorial_Units_for_Statistics)\n",
    "\n",
    "This notebook combines data generated in Stata with standart NUTS2 region. The regions can be downloaded [here](https://ec.europa.eu/eurostat/web/gisco/geodata/reference-data/administrative-units-statistical-units/nuts)."
   ]
  },
  {
   "cell_type": "code",
   "execution_count": null,
   "id": "median-uncle",
   "metadata": {},
   "outputs": [],
   "source": [
    "attributes = pd.io.stata.read_stata(\"../data/nuts2_attributes.dta\")\n",
    "#coordinates = pd.io.stata.read_stata(\"../data/nuts2_coordinates.dta\")"
   ]
  },
  {
   "cell_type": "code",
   "execution_count": null,
   "id": "opening-enough",
   "metadata": {},
   "outputs": [],
   "source": [
    "attributes.columns"
   ]
  },
  {
   "cell_type": "markdown",
   "id": "facial-needle",
   "metadata": {},
   "source": [
    "Let's now load the NUTS2 regions in WGS 84 (EPSG 4326),"
   ]
  },
  {
   "cell_type": "code",
   "execution_count": null,
   "id": "chubby-filling",
   "metadata": {},
   "outputs": [],
   "source": [
    "NUTS = gpd.read_file(\"../data/ref-nuts-2021-01m.geojson/NUTS_RG_01M_2021_4326_LEVL_2.geojson\")"
   ]
  },
  {
   "cell_type": "markdown",
   "id": "black-equivalent",
   "metadata": {},
   "source": [
    "Let's filter `TR`, "
   ]
  },
  {
   "cell_type": "code",
   "execution_count": null,
   "id": "forbidden-morning",
   "metadata": {},
   "outputs": [],
   "source": [
    "NUTS = NUTS[NUTS[\"CNTR_CODE\"] == \"TR\"]"
   ]
  },
  {
   "cell_type": "markdown",
   "id": "descending-trick",
   "metadata": {},
   "source": [
    "In fact, we see 26 regions (as expected),"
   ]
  },
  {
   "cell_type": "code",
   "execution_count": null,
   "id": "proved-improvement",
   "metadata": {},
   "outputs": [],
   "source": [
    "len(NUTS)"
   ]
  },
  {
   "cell_type": "markdown",
   "id": "genuine-diagram",
   "metadata": {},
   "source": [
    "Now, let's merge with `attributes` into a `pandas.DataFrame`,"
   ]
  },
  {
   "cell_type": "code",
   "execution_count": null,
   "id": "hundred-chick",
   "metadata": {},
   "outputs": [],
   "source": [
    "df = pd.merge(attributes, NUTS[[\"NUTS_ID\", \"geometry\"]], left_on=\"nuts2_regions\", right_on=\"NUTS_ID\")"
   ]
  },
  {
   "cell_type": "markdown",
   "id": "assigned-debut",
   "metadata": {},
   "source": [
    "Finally, into a `geopandas.GeoDataFrame`,"
   ]
  },
  {
   "cell_type": "code",
   "execution_count": null,
   "id": "derived-mistake",
   "metadata": {},
   "outputs": [],
   "source": [
    "gdf = gpd.GeoDataFrame(df)"
   ]
  },
  {
   "cell_type": "code",
   "execution_count": null,
   "id": "guilty-recommendation",
   "metadata": {},
   "outputs": [],
   "source": [
    "gdf.plot()"
   ]
  },
  {
   "cell_type": "markdown",
   "id": "industrial-january",
   "metadata": {},
   "source": [
    "And exporting, "
   ]
  },
  {
   "cell_type": "code",
   "execution_count": null,
   "id": "intense-collapse",
   "metadata": {},
   "outputs": [],
   "source": [
    "# remove duplicated columns\n",
    "gdf.drop(\"NUTS_ID\", axis=1, inplace=True)"
   ]
  },
  {
   "cell_type": "code",
   "execution_count": null,
   "id": "regular-maine",
   "metadata": {},
   "outputs": [],
   "source": [
    "gdf.to_file(\"../data/attributes.shp\")\n",
    "gdf.to_file(\"../data/attributes.geojson\", driver=\"GeoJSON\")"
   ]
  }
 ],
 "metadata": {
  "kernelspec": {
   "display_name": "Python 3",
   "language": "python",
   "name": "python3"
  },
  "language_info": {
   "codemirror_mode": {
    "name": "ipython",
    "version": 3
   },
   "file_extension": ".py",
   "mimetype": "text/x-python",
   "name": "python",
   "nbconvert_exporter": "python",
   "pygments_lexer": "ipython3",
   "version": "3.7.9"
  }
 },
 "nbformat": 4,
 "nbformat_minor": 5
}
